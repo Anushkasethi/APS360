{
  "nbformat": 4,
  "nbformat_minor": 0,
  "metadata": {
    "colab": {
      "name": "APS360_Project.ipynb",
      "provenance": [],
      "collapsed_sections": [],
      "authorship_tag": "ABX9TyNfYePSs3yZveLX0lbIfOcI",
      "include_colab_link": true
    },
    "kernelspec": {
      "name": "python3",
      "display_name": "Python 3"
    },
    "language_info": {
      "name": "python"
    }
  },
  "cells": [
    {
      "cell_type": "markdown",
      "metadata": {
        "id": "view-in-github",
        "colab_type": "text"
      },
      "source": [
        "<a href=\"https://colab.research.google.com/github/Anushkasethi/APS360/blob/main/APS360_Project.ipynb\" target=\"_parent\"><img src=\"https://colab.research.google.com/assets/colab-badge.svg\" alt=\"Open In Colab\"/></a>"
      ]
    },
    {
      "cell_type": "markdown",
      "source": [
        "###**Impressionist Art**"
      ],
      "metadata": {
        "id": "b6oVoj5SqZAo"
      }
    },
    {
      "cell_type": "markdown",
      "source": [
        "###Data Splitting"
      ],
      "metadata": {
        "id": "CqCKwLK-qIc2"
      }
    },
    {
      "cell_type": "code",
      "execution_count": 1,
      "metadata": {
        "id": "RTmoLlomogDy"
      },
      "outputs": [],
      "source": [
        "!pip install opendatasets --upgrade --quiet"
      ]
    },
    {
      "cell_type": "code",
      "source": [
        "dataset_url = \"https://www.kaggle.com/datasets/delayedkarma/impressionist-classifier-data\""
      ],
      "metadata": {
        "id": "GkqGpQhLombB"
      },
      "execution_count": 2,
      "outputs": []
    },
    {
      "cell_type": "code",
      "source": [
        "import opendatasets as od"
      ],
      "metadata": {
        "id": "DiW8k8b2oouq"
      },
      "execution_count": 3,
      "outputs": []
    },
    {
      "cell_type": "code",
      "source": [
        "od.download(dataset_url)"
      ],
      "metadata": {
        "colab": {
          "base_uri": "https://localhost:8080/"
        },
        "id": "_dBFfllRorSZ",
        "outputId": "4bd82172-8c29-4a50-acfb-9221936fabdc"
      },
      "execution_count": 4,
      "outputs": [
        {
          "output_type": "stream",
          "name": "stdout",
          "text": [
            "Please provide your Kaggle credentials to download this dataset. Learn more: http://bit.ly/kaggle-creds\n",
            "Your Kaggle username: anushkasethi\n",
            "Your Kaggle Key: ··········\n",
            "Downloading impressionist-classifier-data.zip to ./impressionist-classifier-data\n"
          ]
        },
        {
          "output_type": "stream",
          "name": "stderr",
          "text": [
            "100%|██████████| 2.19G/2.19G [00:16<00:00, 138MB/s]\n"
          ]
        },
        {
          "output_type": "stream",
          "name": "stdout",
          "text": [
            "\n"
          ]
        }
      ]
    },
    {
      "cell_type": "code",
      "source": [
        "dataset = './impressionist-classifier-data/training/training'"
      ],
      "metadata": {
        "id": "jajHP9Qiothy"
      },
      "execution_count": 14,
      "outputs": []
    },
    {
      "cell_type": "code",
      "source": [
        "pip install split-folders"
      ],
      "metadata": {
        "colab": {
          "base_uri": "https://localhost:8080/"
        },
        "id": "uFYSpiXYovpW",
        "outputId": "831bc736-7948-4987-ae66-aa817db11e4e"
      },
      "execution_count": 6,
      "outputs": [
        {
          "output_type": "stream",
          "name": "stdout",
          "text": [
            "Looking in indexes: https://pypi.org/simple, https://us-python.pkg.dev/colab-wheels/public/simple/\n",
            "Collecting split-folders\n",
            "  Downloading split_folders-0.5.1-py3-none-any.whl (8.4 kB)\n",
            "Installing collected packages: split-folders\n",
            "Successfully installed split-folders-0.5.1\n"
          ]
        }
      ]
    },
    {
      "cell_type": "code",
      "source": [
        "import os\n",
        "import splitfolders\n",
        "import matplotlib.pyplot as plt"
      ],
      "metadata": {
        "id": "evZkHMaNoxrS"
      },
      "execution_count": 7,
      "outputs": []
    },
    {
      "cell_type": "code",
      "source": [
        "output_folder = \"Impressionist-classifier-data-split\""
      ],
      "metadata": {
        "id": "m2ezU5iio0br"
      },
      "execution_count": 8,
      "outputs": []
    },
    {
      "cell_type": "code",
      "source": [
        "splitfolders.ratio(dataset, output_folder, seed = 42, ratio= (0.7, 0.15, 0.15))"
      ],
      "metadata": {
        "colab": {
          "base_uri": "https://localhost:8080/"
        },
        "id": "sbFVlaQ9o2u7",
        "outputId": "89575591-264d-441f-f9bd-4c8eaf104d0e"
      },
      "execution_count": 15,
      "outputs": [
        {
          "output_type": "stream",
          "name": "stderr",
          "text": [
            "Copying files: 3988 files [00:07, 503.63 files/s]\n"
          ]
        }
      ]
    },
    {
      "cell_type": "code",
      "source": [
        "train_data = \"./Impressionist-classifier-data-split/train\"\n",
        "test_data = \"./Impressionist-classifier-data-split/test\"\n",
        "val_data = \"./Impressionist-classifier-data-split/val\""
      ],
      "metadata": {
        "id": "zfyYnJJ7o46Y"
      },
      "execution_count": 10,
      "outputs": []
    },
    {
      "cell_type": "markdown",
      "source": [
        "##Sanity Check "
      ],
      "metadata": {
        "id": "eod-w8_zo_1K"
      }
    },
    {
      "cell_type": "code",
      "source": [
        "for classes in os.listdir(train_data):\n",
        "  print(classes, ':', len(os.listdir(train_data + '/' + classes))) "
      ],
      "metadata": {
        "colab": {
          "base_uri": "https://localhost:8080/"
        },
        "id": "URtht56Qo9Bl",
        "outputId": "d7fdbd0d-b383-416a-d943-c1b6c5240afb"
      },
      "execution_count": 16,
      "outputs": [
        {
          "output_type": "stream",
          "name": "stdout",
          "text": [
            "Matisse : 279\n",
            "Degas : 278\n",
            "Gauguin : 279\n",
            "Renoir : 279\n",
            "Sargent : 279\n",
            "Cezanne : 279\n",
            "Hassam : 279\n",
            "VanGogh : 279\n",
            "Monet : 279\n",
            "Pissarro : 278\n"
          ]
        }
      ]
    },
    {
      "cell_type": "code",
      "source": [
        "for classes in os.listdir(val_data):\n",
        "  print(classes, ':', len(os.listdir(val_data + '/' +classes)))"
      ],
      "metadata": {
        "colab": {
          "base_uri": "https://localhost:8080/"
        },
        "id": "CfM5WGYGpGEY",
        "outputId": "c148dacc-2731-49ae-9a54-b2564673a5f0"
      },
      "execution_count": 17,
      "outputs": [
        {
          "output_type": "stream",
          "name": "stdout",
          "text": [
            "Matisse : 59\n",
            "Degas : 59\n",
            "Gauguin : 59\n",
            "Renoir : 59\n",
            "Sargent : 59\n",
            "Cezanne : 59\n",
            "Hassam : 59\n",
            "VanGogh : 59\n",
            "Monet : 59\n",
            "Pissarro : 59\n"
          ]
        }
      ]
    },
    {
      "cell_type": "code",
      "source": [
        "for classes in os.listdir(test_data):\n",
        "  print(classes, ':', len(os.listdir(test_data + '/' + classes)))"
      ],
      "metadata": {
        "colab": {
          "base_uri": "https://localhost:8080/"
        },
        "id": "cKGE12aYpIPo",
        "outputId": "b20e5b89-14be-4aab-ea0b-0ee35a37dc76"
      },
      "execution_count": 18,
      "outputs": [
        {
          "output_type": "stream",
          "name": "stdout",
          "text": [
            "Matisse : 61\n",
            "Degas : 61\n",
            "Gauguin : 61\n",
            "Renoir : 61\n",
            "Sargent : 61\n",
            "Cezanne : 61\n",
            "Hassam : 61\n",
            "VanGogh : 61\n",
            "Monet : 61\n",
            "Pissarro : 61\n"
          ]
        }
      ]
    }
  ]
}